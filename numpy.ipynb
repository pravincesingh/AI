{
 "cells": [
  {
   "cell_type": "code",
   "execution_count": 3,
   "metadata": {},
   "outputs": [],
   "source": [
    "import numpy as np"
   ]
  },
  {
   "cell_type": "code",
   "execution_count": 4,
   "metadata": {},
   "outputs": [
    {
     "name": "stdout",
     "output_type": "stream",
     "text": [
      "[[2 3 4]\n",
      " [5 6 7]]\n",
      "2\n",
      "int32\n",
      "6\n"
     ]
    }
   ],
   "source": [
    "x=np.array([[2,3,4],[5,6,7]])\n",
    "print(x)\n",
    "print(x.ndim)\n",
    "print(x.dtype)\n",
    "print(x.size)#number of element"
   ]
  },
  {
   "cell_type": "code",
   "execution_count": 5,
   "metadata": {},
   "outputs": [
    {
     "name": "stdout",
     "output_type": "stream",
     "text": [
      "[[2 3]\n",
      " [4 5]\n",
      " [6 7]]\n"
     ]
    }
   ],
   "source": [
    "#print(x.arrange(1,5))\n",
    "#start stope intervel dtype\n",
    "y=x.reshape(3,2)\n",
    "print(y)"
   ]
  },
  {
   "cell_type": "code",
   "execution_count": 6,
   "metadata": {},
   "outputs": [
    {
     "name": "stdout",
     "output_type": "stream",
     "text": [
      "4 6\n"
     ]
    }
   ],
   "source": [
    "a=np.array([(1,2,3,4),(3,4,5,6)])\n",
    "print(a[0][3],a[1,3])"
   ]
  },
  {
   "cell_type": "code",
   "execution_count": 7,
   "metadata": {},
   "outputs": [
    {
     "name": "stdout",
     "output_type": "stream",
     "text": [
      "[  1.  12.  23.  34.  45.  56.  67.  78.  89. 100.]\n"
     ]
    }
   ],
   "source": [
    "f=np.linspace(1,100,10)\n",
    "print(f)"
   ]
  },
  {
   "cell_type": "code",
   "execution_count": 9,
   "metadata": {},
   "outputs": [
    {
     "name": "stdout",
     "output_type": "stream",
     "text": [
      "[1, 2, 3]\n",
      "[1.0, 12.0, 23.0, 34.0, 45.0, 56.0, 67.0, 78.0, 89.0, 100.0]\n",
      "{1: [1.0, 12.0, 23.0], 2: [34.0, 45.0, 56.0], 3: [67.0, 78.0, 89.0]}\n"
     ]
    }
   ],
   "source": [
    "y=np.arange(1,4)\n",
    "y=list(y)\n",
    "print(y)\n",
    "\n",
    "z=np.linspace(1,100,10)\n",
    "z=list(z)\n",
    "print(z)\n",
    "l1=[z[0],z[1],z[2]]\n",
    "l2=[z[3],z[4],z[5]]\n",
    "l3=[z[6],z[7],z[8]]\n",
    "x={y[0]:l1,y[1]:l2,y[2]:l3}\n",
    "print(x)"
   ]
  },
  {
   "cell_type": "code",
   "execution_count": 14,
   "metadata": {},
   "outputs": [
    {
     "name": "stdout",
     "output_type": "stream",
     "text": [
      "1\n",
      "6\n",
      "28\n"
     ]
    }
   ],
   "source": [
    "a=np.array([(1,2,3,4),(3,4,5,6)])\n",
    "\n",
    "print(a.min())\n",
    "print(a.max())\n",
    "print(a.sum())\n",
    "#sum(axis=0)"
   ]
  },
  {
   "cell_type": "code",
   "execution_count": 13,
   "metadata": {},
   "outputs": [
    {
     "name": "stdout",
     "output_type": "stream",
     "text": [
      "50000.0\n",
      "500.0\n"
     ]
    },
    {
     "data": {
      "text/plain": [
       "'sum=[0,0,0,0,0,0,0,0,0,0]\\nfor i in range(10):    \\n    sum[i]=(y.sum(axis=i))\\nprint(sum)'"
      ]
     },
     "execution_count": 13,
     "metadata": {},
     "output_type": "execute_result"
    }
   ],
   "source": [
    "a=np.linspace(0,1000,100)\n",
    "y=a.reshape(10,10)\n",
    "print(y.sum())\n",
    "print(y.sum()/100)\n",
    "\"\"\"sum=[0,0,0,0,0,0,0,0,0,0]\n",
    "for i in range(10):    \n",
    "    sum[i]=(y.sum(axis=i))\n",
    "print(sum)\"\"\""
   ]
  }
 ],
 "metadata": {
  "kernelspec": {
   "display_name": "Python 3",
   "language": "python",
   "name": "python3"
  },
  "language_info": {
   "codemirror_mode": {
    "name": "ipython",
    "version": 3
   },
   "file_extension": ".py",
   "mimetype": "text/x-python",
   "name": "python",
   "nbconvert_exporter": "python",
   "pygments_lexer": "ipython3",
   "version": "3.6.5"
  }
 },
 "nbformat": 4,
 "nbformat_minor": 2
}
