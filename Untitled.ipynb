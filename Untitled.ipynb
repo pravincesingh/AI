{
 "cells": [
  {
   "cell_type": "code",
   "execution_count": 1,
   "metadata": {},
   "outputs": [],
   "source": [
    "import pandas as pd\n",
    "import matplotlib.pyplot as plt\n",
    "import numpy as np"
   ]
  },
  {
   "cell_type": "code",
   "execution_count": 2,
   "metadata": {},
   "outputs": [
    {
     "data": {
      "text/html": [
       "<div>\n",
       "<style scoped>\n",
       "    .dataframe tbody tr th:only-of-type {\n",
       "        vertical-align: middle;\n",
       "    }\n",
       "\n",
       "    .dataframe tbody tr th {\n",
       "        vertical-align: top;\n",
       "    }\n",
       "\n",
       "    .dataframe thead th {\n",
       "        text-align: right;\n",
       "    }\n",
       "</style>\n",
       "<table border=\"1\" class=\"dataframe\">\n",
       "  <thead>\n",
       "    <tr style=\"text-align: right;\">\n",
       "      <th></th>\n",
       "      <th>actorId</th>\n",
       "      <th>actorName</th>\n",
       "      <th>moviecount</th>\n",
       "      <th>ratingSum</th>\n",
       "      <th>normalizedMovieRank</th>\n",
       "      <th>googleHits</th>\n",
       "      <th>normalizedGoogleRank</th>\n",
       "      <th>normalizedRating</th>\n",
       "    </tr>\n",
       "  </thead>\n",
       "  <tbody>\n",
       "    <tr>\n",
       "      <th>0</th>\n",
       "      <td>373</td>\n",
       "      <td>Aamir Khan</td>\n",
       "      <td>11</td>\n",
       "      <td>1170</td>\n",
       "      <td>9.44862</td>\n",
       "      <td>2460000</td>\n",
       "      <td>7.34283</td>\n",
       "      <td>10.00000</td>\n",
       "    </tr>\n",
       "    <tr>\n",
       "      <th>1</th>\n",
       "      <td>374</td>\n",
       "      <td>Shah Rukh Khan</td>\n",
       "      <td>23</td>\n",
       "      <td>2000</td>\n",
       "      <td>7.55009</td>\n",
       "      <td>2670000</td>\n",
       "      <td>7.88458</td>\n",
       "      <td>9.22674</td>\n",
       "    </tr>\n",
       "    <tr>\n",
       "      <th>2</th>\n",
       "      <td>375</td>\n",
       "      <td>Salman Khan</td>\n",
       "      <td>36</td>\n",
       "      <td>2340</td>\n",
       "      <td>5.40217</td>\n",
       "      <td>3490000</td>\n",
       "      <td>10.00000</td>\n",
       "      <td>9.20821</td>\n",
       "    </tr>\n",
       "    <tr>\n",
       "      <th>3</th>\n",
       "      <td>376</td>\n",
       "      <td>Katrina Kaif</td>\n",
       "      <td>17</td>\n",
       "      <td>1640</td>\n",
       "      <td>8.48082</td>\n",
       "      <td>2120000</td>\n",
       "      <td>6.46570</td>\n",
       "      <td>8.94852</td>\n",
       "    </tr>\n",
       "    <tr>\n",
       "      <th>4</th>\n",
       "      <td>377</td>\n",
       "      <td>Deepika Padukone</td>\n",
       "      <td>16</td>\n",
       "      <td>1080</td>\n",
       "      <td>5.64674</td>\n",
       "      <td>3000000</td>\n",
       "      <td>8.73591</td>\n",
       "      <td>8.62716</td>\n",
       "    </tr>\n",
       "  </tbody>\n",
       "</table>\n",
       "</div>"
      ],
      "text/plain": [
       "   actorId         actorName  moviecount  ratingSum  normalizedMovieRank  \\\n",
       "0      373        Aamir Khan          11       1170              9.44862   \n",
       "1      374    Shah Rukh Khan          23       2000              7.55009   \n",
       "2      375       Salman Khan          36       2340              5.40217   \n",
       "3      376      Katrina Kaif          17       1640              8.48082   \n",
       "4      377  Deepika Padukone          16       1080              5.64674   \n",
       "\n",
       "   googleHits  normalizedGoogleRank  normalizedRating  \n",
       "0     2460000               7.34283          10.00000  \n",
       "1     2670000               7.88458           9.22674  \n",
       "2     3490000              10.00000           9.20821  \n",
       "3     2120000               6.46570           8.94852  \n",
       "4     3000000               8.73591           8.62716  "
      ]
     },
     "execution_count": 2,
     "metadata": {},
     "output_type": "execute_result"
    }
   ],
   "source": [
    "data=pd.read_csv(\"C:\\\\Users\\\\HP\\\\Desktop\\\\Python\\\\AI\\\\DataSet\\\\moviedataset.csv\")\n",
    "data.head()"
   ]
  },
  {
   "cell_type": "code",
   "execution_count": 13,
   "metadata": {},
   "outputs": [
    {
     "ename": "IndexError",
     "evalue": "single positional indexer is out-of-bounds",
     "output_type": "error",
     "traceback": [
      "\u001b[1;31m---------------------------------------------------------------------------\u001b[0m",
      "\u001b[1;31mIndexError\u001b[0m                                Traceback (most recent call last)",
      "\u001b[1;32m<ipython-input-13-5657252031fc>\u001b[0m in \u001b[0;36m<module>\u001b[1;34m\u001b[0m\n\u001b[0;32m      1\u001b[0m \u001b[0mx\u001b[0m\u001b[1;33m=\u001b[0m\u001b[0mdata\u001b[0m\u001b[1;33m.\u001b[0m\u001b[0miloc\u001b[0m\u001b[1;33m[\u001b[0m\u001b[1;33m:\u001b[0m\u001b[1;33m,\u001b[0m\u001b[1;33m[\u001b[0m\u001b[1;36m2\u001b[0m\u001b[1;33m,\u001b[0m\u001b[1;36m3\u001b[0m\u001b[1;33m]\u001b[0m\u001b[1;33m]\u001b[0m\u001b[1;33m.\u001b[0m\u001b[0mvalues\u001b[0m\u001b[1;33m\u001b[0m\u001b[1;33m\u001b[0m\u001b[0m\n\u001b[1;32m----> 2\u001b[1;33m \u001b[0my\u001b[0m\u001b[1;33m=\u001b[0m\u001b[0mdata\u001b[0m\u001b[1;33m.\u001b[0m\u001b[0miloc\u001b[0m\u001b[1;33m[\u001b[0m\u001b[1;33m:\u001b[0m\u001b[1;33m,\u001b[0m\u001b[1;36m8\u001b[0m\u001b[1;33m]\u001b[0m\u001b[1;33m.\u001b[0m\u001b[0mvalues\u001b[0m\u001b[1;33m\u001b[0m\u001b[1;33m\u001b[0m\u001b[0m\n\u001b[0m",
      "\u001b[1;32m~\\Anaconda3\\envs\\opencv\\lib\\site-packages\\pandas\\core\\indexing.py\u001b[0m in \u001b[0;36m__getitem__\u001b[1;34m(self, key)\u001b[0m\n\u001b[0;32m   1402\u001b[0m                 \u001b[1;32mexcept\u001b[0m \u001b[1;33m(\u001b[0m\u001b[0mKeyError\u001b[0m\u001b[1;33m,\u001b[0m \u001b[0mIndexError\u001b[0m\u001b[1;33m,\u001b[0m \u001b[0mAttributeError\u001b[0m\u001b[1;33m)\u001b[0m\u001b[1;33m:\u001b[0m\u001b[1;33m\u001b[0m\u001b[1;33m\u001b[0m\u001b[0m\n\u001b[0;32m   1403\u001b[0m                     \u001b[1;32mpass\u001b[0m\u001b[1;33m\u001b[0m\u001b[1;33m\u001b[0m\u001b[0m\n\u001b[1;32m-> 1404\u001b[1;33m             \u001b[1;32mreturn\u001b[0m \u001b[0mself\u001b[0m\u001b[1;33m.\u001b[0m\u001b[0m_getitem_tuple\u001b[0m\u001b[1;33m(\u001b[0m\u001b[0mkey\u001b[0m\u001b[1;33m)\u001b[0m\u001b[1;33m\u001b[0m\u001b[1;33m\u001b[0m\u001b[0m\n\u001b[0m\u001b[0;32m   1405\u001b[0m         \u001b[1;32melse\u001b[0m\u001b[1;33m:\u001b[0m\u001b[1;33m\u001b[0m\u001b[1;33m\u001b[0m\u001b[0m\n\u001b[0;32m   1406\u001b[0m             \u001b[1;31m# we by definition only have the 0th axis\u001b[0m\u001b[1;33m\u001b[0m\u001b[1;33m\u001b[0m\u001b[1;33m\u001b[0m\u001b[0m\n",
      "\u001b[1;32m~\\Anaconda3\\envs\\opencv\\lib\\site-packages\\pandas\\core\\indexing.py\u001b[0m in \u001b[0;36m_getitem_tuple\u001b[1;34m(self, tup)\u001b[0m\n\u001b[0;32m   2065\u001b[0m     \u001b[1;32mdef\u001b[0m \u001b[0m_getitem_tuple\u001b[0m\u001b[1;33m(\u001b[0m\u001b[0mself\u001b[0m\u001b[1;33m,\u001b[0m \u001b[0mtup\u001b[0m\u001b[1;33m)\u001b[0m\u001b[1;33m:\u001b[0m\u001b[1;33m\u001b[0m\u001b[1;33m\u001b[0m\u001b[0m\n\u001b[0;32m   2066\u001b[0m \u001b[1;33m\u001b[0m\u001b[0m\n\u001b[1;32m-> 2067\u001b[1;33m         \u001b[0mself\u001b[0m\u001b[1;33m.\u001b[0m\u001b[0m_has_valid_tuple\u001b[0m\u001b[1;33m(\u001b[0m\u001b[0mtup\u001b[0m\u001b[1;33m)\u001b[0m\u001b[1;33m\u001b[0m\u001b[1;33m\u001b[0m\u001b[0m\n\u001b[0m\u001b[0;32m   2068\u001b[0m         \u001b[1;32mtry\u001b[0m\u001b[1;33m:\u001b[0m\u001b[1;33m\u001b[0m\u001b[1;33m\u001b[0m\u001b[0m\n\u001b[0;32m   2069\u001b[0m             \u001b[1;32mreturn\u001b[0m \u001b[0mself\u001b[0m\u001b[1;33m.\u001b[0m\u001b[0m_getitem_lowerdim\u001b[0m\u001b[1;33m(\u001b[0m\u001b[0mtup\u001b[0m\u001b[1;33m)\u001b[0m\u001b[1;33m\u001b[0m\u001b[1;33m\u001b[0m\u001b[0m\n",
      "\u001b[1;32m~\\Anaconda3\\envs\\opencv\\lib\\site-packages\\pandas\\core\\indexing.py\u001b[0m in \u001b[0;36m_has_valid_tuple\u001b[1;34m(self, key)\u001b[0m\n\u001b[0;32m    230\u001b[0m                 \u001b[1;32mraise\u001b[0m \u001b[0mIndexingError\u001b[0m\u001b[1;33m(\u001b[0m\u001b[1;34m\"Too many indexers\"\u001b[0m\u001b[1;33m)\u001b[0m\u001b[1;33m\u001b[0m\u001b[1;33m\u001b[0m\u001b[0m\n\u001b[0;32m    231\u001b[0m             \u001b[1;32mtry\u001b[0m\u001b[1;33m:\u001b[0m\u001b[1;33m\u001b[0m\u001b[1;33m\u001b[0m\u001b[0m\n\u001b[1;32m--> 232\u001b[1;33m                 \u001b[0mself\u001b[0m\u001b[1;33m.\u001b[0m\u001b[0m_validate_key\u001b[0m\u001b[1;33m(\u001b[0m\u001b[0mk\u001b[0m\u001b[1;33m,\u001b[0m \u001b[0mi\u001b[0m\u001b[1;33m)\u001b[0m\u001b[1;33m\u001b[0m\u001b[1;33m\u001b[0m\u001b[0m\n\u001b[0m\u001b[0;32m    233\u001b[0m             \u001b[1;32mexcept\u001b[0m \u001b[0mValueError\u001b[0m\u001b[1;33m:\u001b[0m\u001b[1;33m\u001b[0m\u001b[1;33m\u001b[0m\u001b[0m\n\u001b[0;32m    234\u001b[0m                 raise ValueError(\n",
      "\u001b[1;32m~\\Anaconda3\\envs\\opencv\\lib\\site-packages\\pandas\\core\\indexing.py\u001b[0m in \u001b[0;36m_validate_key\u001b[1;34m(self, key, axis)\u001b[0m\n\u001b[0;32m   1987\u001b[0m             \u001b[1;32mreturn\u001b[0m\u001b[1;33m\u001b[0m\u001b[1;33m\u001b[0m\u001b[0m\n\u001b[0;32m   1988\u001b[0m         \u001b[1;32melif\u001b[0m \u001b[0mis_integer\u001b[0m\u001b[1;33m(\u001b[0m\u001b[0mkey\u001b[0m\u001b[1;33m)\u001b[0m\u001b[1;33m:\u001b[0m\u001b[1;33m\u001b[0m\u001b[1;33m\u001b[0m\u001b[0m\n\u001b[1;32m-> 1989\u001b[1;33m             \u001b[0mself\u001b[0m\u001b[1;33m.\u001b[0m\u001b[0m_validate_integer\u001b[0m\u001b[1;33m(\u001b[0m\u001b[0mkey\u001b[0m\u001b[1;33m,\u001b[0m \u001b[0maxis\u001b[0m\u001b[1;33m)\u001b[0m\u001b[1;33m\u001b[0m\u001b[1;33m\u001b[0m\u001b[0m\n\u001b[0m\u001b[0;32m   1990\u001b[0m         \u001b[1;32melif\u001b[0m \u001b[0misinstance\u001b[0m\u001b[1;33m(\u001b[0m\u001b[0mkey\u001b[0m\u001b[1;33m,\u001b[0m \u001b[0mtuple\u001b[0m\u001b[1;33m)\u001b[0m\u001b[1;33m:\u001b[0m\u001b[1;33m\u001b[0m\u001b[1;33m\u001b[0m\u001b[0m\n\u001b[0;32m   1991\u001b[0m             \u001b[1;31m# a tuple should already have been caught by this point\u001b[0m\u001b[1;33m\u001b[0m\u001b[1;33m\u001b[0m\u001b[1;33m\u001b[0m\u001b[0m\n",
      "\u001b[1;32m~\\Anaconda3\\envs\\opencv\\lib\\site-packages\\pandas\\core\\indexing.py\u001b[0m in \u001b[0;36m_validate_integer\u001b[1;34m(self, key, axis)\u001b[0m\n\u001b[0;32m   2061\u001b[0m         \u001b[0mlen_axis\u001b[0m \u001b[1;33m=\u001b[0m \u001b[0mlen\u001b[0m\u001b[1;33m(\u001b[0m\u001b[0mself\u001b[0m\u001b[1;33m.\u001b[0m\u001b[0mobj\u001b[0m\u001b[1;33m.\u001b[0m\u001b[0m_get_axis\u001b[0m\u001b[1;33m(\u001b[0m\u001b[0maxis\u001b[0m\u001b[1;33m)\u001b[0m\u001b[1;33m)\u001b[0m\u001b[1;33m\u001b[0m\u001b[1;33m\u001b[0m\u001b[0m\n\u001b[0;32m   2062\u001b[0m         \u001b[1;32mif\u001b[0m \u001b[0mkey\u001b[0m \u001b[1;33m>=\u001b[0m \u001b[0mlen_axis\u001b[0m \u001b[1;32mor\u001b[0m \u001b[0mkey\u001b[0m \u001b[1;33m<\u001b[0m \u001b[1;33m-\u001b[0m\u001b[0mlen_axis\u001b[0m\u001b[1;33m:\u001b[0m\u001b[1;33m\u001b[0m\u001b[1;33m\u001b[0m\u001b[0m\n\u001b[1;32m-> 2063\u001b[1;33m             \u001b[1;32mraise\u001b[0m \u001b[0mIndexError\u001b[0m\u001b[1;33m(\u001b[0m\u001b[1;34m\"single positional indexer is out-of-bounds\"\u001b[0m\u001b[1;33m)\u001b[0m\u001b[1;33m\u001b[0m\u001b[1;33m\u001b[0m\u001b[0m\n\u001b[0m\u001b[0;32m   2064\u001b[0m \u001b[1;33m\u001b[0m\u001b[0m\n\u001b[0;32m   2065\u001b[0m     \u001b[1;32mdef\u001b[0m \u001b[0m_getitem_tuple\u001b[0m\u001b[1;33m(\u001b[0m\u001b[0mself\u001b[0m\u001b[1;33m,\u001b[0m \u001b[0mtup\u001b[0m\u001b[1;33m)\u001b[0m\u001b[1;33m:\u001b[0m\u001b[1;33m\u001b[0m\u001b[1;33m\u001b[0m\u001b[0m\n",
      "\u001b[1;31mIndexError\u001b[0m: single positional indexer is out-of-bounds"
     ]
    }
   ],
   "source": [
    "x=data.iloc[:,[2,3]].values\n",
    "y=data.iloc[:,8].values"
   ]
  },
  {
   "cell_type": "code",
   "execution_count": 9,
   "metadata": {},
   "outputs": [
    {
     "name": "stdout",
     "output_type": "stream",
     "text": [
      "[ 9.44861984  7.55008984  5.40217018  8.4808197   5.64673996  5.8913002\n",
      "  4.45108986  4.86015987  6.95849991  6.38043022  4.00724983  3.40489006\n",
      "  7.97010994  7.3586998   3.67524004 10.          5.07608986  5.3043499\n",
      "  4.38768005  6.03106022  5.40217018  3.8125      5.8913002   2.83423996\n",
      "  3.72212005  3.74665999  3.11098003  4.49379015  4.36956978  2.46739006\n",
      "  8.82608986  4.13618994  4.58695984  3.39129996  3.32336998  4.1793499\n",
      "  3.00201988  5.1086998   3.37578011  4.42391014  2.95652008  4.31103993\n",
      "  3.56073999  5.33230019  7.11413002  5.25543022  3.57436991  3.66303992\n",
      "  1.65216994  5.53557015  4.34239006  3.7046001   2.40625     5.40217018\n",
      "  3.69022012  3.28260994  4.91304016  4.6956501   4.26086998  4.15217018\n",
      "  6.13586998  4.55262995  3.69022012  4.45652008  5.8913002   5.8913002\n",
      "  4.24371004  3.93477988  4.58695984  1.48913002  4.3913002   3.57436991\n",
      "  3.57905006  3.93477988  3.85326004  1.97826004  3.06522012  2.60326004\n",
      "  3.28260994  2.40869999  5.15760994  3.86490989  5.07608986  2.60714006\n",
      "  2.05350995  2.60079002  4.91304016  3.2010901   3.2010901   2.43477988\n",
      "  3.28260994  3.56792998  2.5050199   3.48327994  2.46739006  4.66847992\n",
      "  3.4456501   4.58695984  2.95652008  1.81522     1.97826004  1.97826004\n",
      "  4.42391014  4.42391014  3.15216994  3.02640009  2.90760994  2.18789005\n",
      "  2.20844007  2.67702007  4.32608986  4.32608986  2.84142995  3.11957002\n",
      "  1.82775998  2.84783006  4.21429014  2.95652008  2.36957002  2.66303992\n",
      "  2.04347992  2.83423996  2.46739006  2.58966994  2.3339901   2.73418999\n",
      "  2.79347992  2.3339901   2.3043499   3.93477988  3.93477988  1.32608998\n",
      "  1.65216994  1.32608998  2.37845993  2.81677008  2.14129996  1.93912995\n",
      "  2.71196008  3.73913002  3.73913002  2.09334993  3.69022012  3.69022012\n",
      "  2.08696008  2.56522012  2.15613008  2.22283006  1.65216994  2.53727007\n",
      "  1.26086998  3.54347992  2.25776005  2.46739006  2.10585999  1.9375\n",
      "  2.42291999  3.4456501   3.4456501   3.4456501   3.4456501   2.39752007\n",
      "  2.15089989  1.36685002  2.3043499   1.54348004  2.27173996  1.90301001\n",
      "  2.25776005  2.1739099   2.1956501   2.1739099   1.32608998  1.73370004\n",
      "  1.97826004  3.15216994  3.15216994  3.15216994  1.85968006  1.85598004\n",
      "  1.97826004  1.68478     1.83851004  1.54348004  2.95652008  2.95652008\n",
      "  2.95652008  2.95652008  2.95652008  2.95652008  2.95652008  2.95652008\n",
      "  2.95652008  1.41925001  1.41925001  1.09783006  1.83851004  1.80040002\n",
      "  1.61141002  1.          1.12228     1.61141002  1.61784995  2.71196008\n",
      "  1.39129996  1.43478     1.53359997  1.301       1.48913002  1.32608998\n",
      "  1.32608998  2.56522012  2.56522012  1.27950001  1.32608998  2.46739006\n",
      "  2.36957002  2.36957002  2.36957002  1.17787003  1.21738994  1.27950001\n",
      "  1.08893001  1.19564998  1.          1.13975     1.16304004  1.16304004\n",
      "  2.1739099   2.1739099   1.          1.          1.          1.\n",
      "  1.          1.          1.97826004  1.97826004  1.97826004  1.97826004\n",
      "  1.97826004  1.97826004  1.97826004  1.97826004  1.97826004  1.78261006\n",
      "  1.78261006  1.78261006  1.78261006  1.78261006  1.73370004  1.58695996\n",
      "  1.48913002  1.48913002  1.48913002  1.48913002  1.48913002  1.48913002\n",
      "  1.48913002  1.48913002  1.39129996  1.39129996  1.39129996  1.39129996\n",
      "  1.24457002  1.24457002  1.24457002  1.24457002  1.24457002  1.24457002\n",
      "  1.24457002  1.24457002  1.19564998  1.19564998  1.19564998  1.19564998\n",
      "  1.19564998  1.          1.          1.          1.          1.\n",
      "  1.          1.          1.          1.          1.          1.\n",
      "  1.          1.          1.          1.          1.          1.\n",
      "  1.          1.          1.          1.          1.                 nan\n",
      "         nan]\n"
     ]
    }
   ],
   "source": [
    "print(y)"
   ]
  },
  {
   "cell_type": "code",
   "execution_count": null,
   "metadata": {},
   "outputs": [],
   "source": []
  }
 ],
 "metadata": {
  "kernelspec": {
   "display_name": "Python 3",
   "language": "python",
   "name": "python3"
  },
  "language_info": {
   "codemirror_mode": {
    "name": "ipython",
    "version": 3
   },
   "file_extension": ".py",
   "mimetype": "text/x-python",
   "name": "python",
   "nbconvert_exporter": "python",
   "pygments_lexer": "ipython3",
   "version": "3.7.3"
  }
 },
 "nbformat": 4,
 "nbformat_minor": 2
}
