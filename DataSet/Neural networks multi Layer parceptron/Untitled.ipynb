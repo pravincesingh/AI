{
 "cells": [
  {
   "cell_type": "code",
   "execution_count": 2,
   "metadata": {},
   "outputs": [
    {
     "name": "stderr",
     "output_type": "stream",
     "text": [
      "C:\\Users\\jervis1.0\\Anaconda3\\lib\\site-packages\\sklearn\\cross_validation.py:44: DeprecationWarning: This module was deprecated in version 0.18 in favor of the model_selection module into which all the refactored classes and functions are moved. Also note that the interface of the new CV iterators are different from that of this module. This module will be removed in 0.20.\n",
      "  \"This module will be removed in 0.20.\", DeprecationWarning)\n"
     ]
    }
   ],
   "source": [
    "import pandas as pd \n",
    "import numpy as np\n",
    "\n",
    "from sklearn.neural_network import MLPClassifier\n",
    "from sklearn.cross_validation import train_test_split\n",
    "\n"
   ]
  },
  {
   "cell_type": "code",
   "execution_count": 3,
   "metadata": {},
   "outputs": [
    {
     "ename": "FileNotFoundError",
     "evalue": "File b'suv.csv' does not exist",
     "output_type": "error",
     "traceback": [
      "\u001b[0;31m---------------------------------------------------------------------------\u001b[0m",
      "\u001b[0;31mFileNotFoundError\u001b[0m                         Traceback (most recent call last)",
      "\u001b[0;32m<ipython-input-3-322ffc5be8a0>\u001b[0m in \u001b[0;36m<module>\u001b[0;34m()\u001b[0m\n\u001b[0;32m----> 1\u001b[0;31m \u001b[0md\u001b[0m \u001b[1;33m=\u001b[0m \u001b[0mpd\u001b[0m\u001b[1;33m.\u001b[0m\u001b[0mread_csv\u001b[0m\u001b[1;33m(\u001b[0m\u001b[1;34m'suv.csv'\u001b[0m\u001b[1;33m)\u001b[0m\u001b[1;33m\u001b[0m\u001b[0m\n\u001b[0m\u001b[1;32m      2\u001b[0m \u001b[0mda\u001b[0m \u001b[1;33m=\u001b[0m \u001b[0md\u001b[0m\u001b[1;33m.\u001b[0m\u001b[0mdropna\u001b[0m\u001b[1;33m(\u001b[0m\u001b[1;33m)\u001b[0m\u001b[1;33m\u001b[0m\u001b[0m\n\u001b[1;32m      3\u001b[0m \u001b[0mprint\u001b[0m\u001b[1;33m(\u001b[0m\u001b[0md\u001b[0m\u001b[1;33m.\u001b[0m\u001b[0mhead\u001b[0m\u001b[1;33m(\u001b[0m\u001b[1;36m8\u001b[0m\u001b[1;33m)\u001b[0m\u001b[1;33m)\u001b[0m\u001b[1;33m\u001b[0m\u001b[0m\n",
      "\u001b[0;32mC:\\Users\\jervis1.0\\Anaconda3\\lib\\site-packages\\pandas\\io\\parsers.py\u001b[0m in \u001b[0;36mparser_f\u001b[0;34m(filepath_or_buffer, sep, delimiter, header, names, index_col, usecols, squeeze, prefix, mangle_dupe_cols, dtype, engine, converters, true_values, false_values, skipinitialspace, skiprows, nrows, na_values, keep_default_na, na_filter, verbose, skip_blank_lines, parse_dates, infer_datetime_format, keep_date_col, date_parser, dayfirst, iterator, chunksize, compression, thousands, decimal, lineterminator, quotechar, quoting, escapechar, comment, encoding, dialect, tupleize_cols, error_bad_lines, warn_bad_lines, skipfooter, skip_footer, doublequote, delim_whitespace, as_recarray, compact_ints, use_unsigned, low_memory, buffer_lines, memory_map, float_precision)\u001b[0m\n\u001b[1;32m    644\u001b[0m                     skip_blank_lines=skip_blank_lines)\n\u001b[1;32m    645\u001b[0m \u001b[1;33m\u001b[0m\u001b[0m\n\u001b[0;32m--> 646\u001b[0;31m         \u001b[1;32mreturn\u001b[0m \u001b[0m_read\u001b[0m\u001b[1;33m(\u001b[0m\u001b[0mfilepath_or_buffer\u001b[0m\u001b[1;33m,\u001b[0m \u001b[0mkwds\u001b[0m\u001b[1;33m)\u001b[0m\u001b[1;33m\u001b[0m\u001b[0m\n\u001b[0m\u001b[1;32m    647\u001b[0m \u001b[1;33m\u001b[0m\u001b[0m\n\u001b[1;32m    648\u001b[0m     \u001b[0mparser_f\u001b[0m\u001b[1;33m.\u001b[0m\u001b[0m__name__\u001b[0m \u001b[1;33m=\u001b[0m \u001b[0mname\u001b[0m\u001b[1;33m\u001b[0m\u001b[0m\n",
      "\u001b[0;32mC:\\Users\\jervis1.0\\Anaconda3\\lib\\site-packages\\pandas\\io\\parsers.py\u001b[0m in \u001b[0;36m_read\u001b[0;34m(filepath_or_buffer, kwds)\u001b[0m\n\u001b[1;32m    387\u001b[0m \u001b[1;33m\u001b[0m\u001b[0m\n\u001b[1;32m    388\u001b[0m     \u001b[1;31m# Create the parser.\u001b[0m\u001b[1;33m\u001b[0m\u001b[1;33m\u001b[0m\u001b[0m\n\u001b[0;32m--> 389\u001b[0;31m     \u001b[0mparser\u001b[0m \u001b[1;33m=\u001b[0m \u001b[0mTextFileReader\u001b[0m\u001b[1;33m(\u001b[0m\u001b[0mfilepath_or_buffer\u001b[0m\u001b[1;33m,\u001b[0m \u001b[1;33m**\u001b[0m\u001b[0mkwds\u001b[0m\u001b[1;33m)\u001b[0m\u001b[1;33m\u001b[0m\u001b[0m\n\u001b[0m\u001b[1;32m    390\u001b[0m \u001b[1;33m\u001b[0m\u001b[0m\n\u001b[1;32m    391\u001b[0m     \u001b[1;32mif\u001b[0m \u001b[1;33m(\u001b[0m\u001b[0mnrows\u001b[0m \u001b[1;32mis\u001b[0m \u001b[1;32mnot\u001b[0m \u001b[1;32mNone\u001b[0m\u001b[1;33m)\u001b[0m \u001b[1;32mand\u001b[0m \u001b[1;33m(\u001b[0m\u001b[0mchunksize\u001b[0m \u001b[1;32mis\u001b[0m \u001b[1;32mnot\u001b[0m \u001b[1;32mNone\u001b[0m\u001b[1;33m)\u001b[0m\u001b[1;33m:\u001b[0m\u001b[1;33m\u001b[0m\u001b[0m\n",
      "\u001b[0;32mC:\\Users\\jervis1.0\\Anaconda3\\lib\\site-packages\\pandas\\io\\parsers.py\u001b[0m in \u001b[0;36m__init__\u001b[0;34m(self, f, engine, **kwds)\u001b[0m\n\u001b[1;32m    728\u001b[0m             \u001b[0mself\u001b[0m\u001b[1;33m.\u001b[0m\u001b[0moptions\u001b[0m\u001b[1;33m[\u001b[0m\u001b[1;34m'has_index_names'\u001b[0m\u001b[1;33m]\u001b[0m \u001b[1;33m=\u001b[0m \u001b[0mkwds\u001b[0m\u001b[1;33m[\u001b[0m\u001b[1;34m'has_index_names'\u001b[0m\u001b[1;33m]\u001b[0m\u001b[1;33m\u001b[0m\u001b[0m\n\u001b[1;32m    729\u001b[0m \u001b[1;33m\u001b[0m\u001b[0m\n\u001b[0;32m--> 730\u001b[0;31m         \u001b[0mself\u001b[0m\u001b[1;33m.\u001b[0m\u001b[0m_make_engine\u001b[0m\u001b[1;33m(\u001b[0m\u001b[0mself\u001b[0m\u001b[1;33m.\u001b[0m\u001b[0mengine\u001b[0m\u001b[1;33m)\u001b[0m\u001b[1;33m\u001b[0m\u001b[0m\n\u001b[0m\u001b[1;32m    731\u001b[0m \u001b[1;33m\u001b[0m\u001b[0m\n\u001b[1;32m    732\u001b[0m     \u001b[1;32mdef\u001b[0m \u001b[0mclose\u001b[0m\u001b[1;33m(\u001b[0m\u001b[0mself\u001b[0m\u001b[1;33m)\u001b[0m\u001b[1;33m:\u001b[0m\u001b[1;33m\u001b[0m\u001b[0m\n",
      "\u001b[0;32mC:\\Users\\jervis1.0\\Anaconda3\\lib\\site-packages\\pandas\\io\\parsers.py\u001b[0m in \u001b[0;36m_make_engine\u001b[0;34m(self, engine)\u001b[0m\n\u001b[1;32m    921\u001b[0m     \u001b[1;32mdef\u001b[0m \u001b[0m_make_engine\u001b[0m\u001b[1;33m(\u001b[0m\u001b[0mself\u001b[0m\u001b[1;33m,\u001b[0m \u001b[0mengine\u001b[0m\u001b[1;33m=\u001b[0m\u001b[1;34m'c'\u001b[0m\u001b[1;33m)\u001b[0m\u001b[1;33m:\u001b[0m\u001b[1;33m\u001b[0m\u001b[0m\n\u001b[1;32m    922\u001b[0m         \u001b[1;32mif\u001b[0m \u001b[0mengine\u001b[0m \u001b[1;33m==\u001b[0m \u001b[1;34m'c'\u001b[0m\u001b[1;33m:\u001b[0m\u001b[1;33m\u001b[0m\u001b[0m\n\u001b[0;32m--> 923\u001b[0;31m             \u001b[0mself\u001b[0m\u001b[1;33m.\u001b[0m\u001b[0m_engine\u001b[0m \u001b[1;33m=\u001b[0m \u001b[0mCParserWrapper\u001b[0m\u001b[1;33m(\u001b[0m\u001b[0mself\u001b[0m\u001b[1;33m.\u001b[0m\u001b[0mf\u001b[0m\u001b[1;33m,\u001b[0m \u001b[1;33m**\u001b[0m\u001b[0mself\u001b[0m\u001b[1;33m.\u001b[0m\u001b[0moptions\u001b[0m\u001b[1;33m)\u001b[0m\u001b[1;33m\u001b[0m\u001b[0m\n\u001b[0m\u001b[1;32m    924\u001b[0m         \u001b[1;32melse\u001b[0m\u001b[1;33m:\u001b[0m\u001b[1;33m\u001b[0m\u001b[0m\n\u001b[1;32m    925\u001b[0m             \u001b[1;32mif\u001b[0m \u001b[0mengine\u001b[0m \u001b[1;33m==\u001b[0m \u001b[1;34m'python'\u001b[0m\u001b[1;33m:\u001b[0m\u001b[1;33m\u001b[0m\u001b[0m\n",
      "\u001b[0;32mC:\\Users\\jervis1.0\\Anaconda3\\lib\\site-packages\\pandas\\io\\parsers.py\u001b[0m in \u001b[0;36m__init__\u001b[0;34m(self, src, **kwds)\u001b[0m\n\u001b[1;32m   1388\u001b[0m         \u001b[0mkwds\u001b[0m\u001b[1;33m[\u001b[0m\u001b[1;34m'allow_leading_cols'\u001b[0m\u001b[1;33m]\u001b[0m \u001b[1;33m=\u001b[0m \u001b[0mself\u001b[0m\u001b[1;33m.\u001b[0m\u001b[0mindex_col\u001b[0m \u001b[1;32mis\u001b[0m \u001b[1;32mnot\u001b[0m \u001b[1;32mFalse\u001b[0m\u001b[1;33m\u001b[0m\u001b[0m\n\u001b[1;32m   1389\u001b[0m \u001b[1;33m\u001b[0m\u001b[0m\n\u001b[0;32m-> 1390\u001b[0;31m         \u001b[0mself\u001b[0m\u001b[1;33m.\u001b[0m\u001b[0m_reader\u001b[0m \u001b[1;33m=\u001b[0m \u001b[0m_parser\u001b[0m\u001b[1;33m.\u001b[0m\u001b[0mTextReader\u001b[0m\u001b[1;33m(\u001b[0m\u001b[0msrc\u001b[0m\u001b[1;33m,\u001b[0m \u001b[1;33m**\u001b[0m\u001b[0mkwds\u001b[0m\u001b[1;33m)\u001b[0m\u001b[1;33m\u001b[0m\u001b[0m\n\u001b[0m\u001b[1;32m   1391\u001b[0m \u001b[1;33m\u001b[0m\u001b[0m\n\u001b[1;32m   1392\u001b[0m         \u001b[1;31m# XXX\u001b[0m\u001b[1;33m\u001b[0m\u001b[1;33m\u001b[0m\u001b[0m\n",
      "\u001b[0;32mpandas\\parser.pyx\u001b[0m in \u001b[0;36mpandas.parser.TextReader.__cinit__ (pandas\\parser.c:4184)\u001b[0;34m()\u001b[0m\n",
      "\u001b[0;32mpandas\\parser.pyx\u001b[0m in \u001b[0;36mpandas.parser.TextReader._setup_parser_source (pandas\\parser.c:8449)\u001b[0;34m()\u001b[0m\n",
      "\u001b[0;31mFileNotFoundError\u001b[0m: File b'suv.csv' does not exist"
     ]
    }
   ],
   "source": [
    "d = pd.read_csv('suv.csv')\n",
    "da = d.dropna()\n",
    "print(d.head(8))"
   ]
  },
  {
   "cell_type": "code",
   "execution_count": 6,
   "metadata": {
    "collapsed": true
   },
   "outputs": [],
   "source": [
    "al = MLPClassifier(verbose=True, solver='sgd')"
   ]
  },
  {
   "cell_type": "code",
   "execution_count": 25,
   "metadata": {},
   "outputs": [
    {
     "name": "stdout",
     "output_type": "stream",
     "text": [
      "     SepalLengthCm  SepalWidthCm  PetalLengthCm\n",
      "0              5.1           3.5            1.4\n",
      "1              4.9           3.0            1.4\n",
      "2              4.7           3.2            1.3\n",
      "3              4.6           3.1            1.5\n",
      "4              5.0           3.6            1.4\n",
      "5              5.4           3.9            1.7\n",
      "6              4.6           3.4            1.4\n",
      "7              5.0           3.4            1.5\n",
      "8              4.4           2.9            1.4\n",
      "9              4.9           3.1            1.5\n",
      "10             5.4           3.7            1.5\n",
      "11             4.8           3.4            1.6\n",
      "12             4.8           3.0            1.4\n",
      "13             4.3           3.0            1.1\n",
      "14             5.8           4.0            1.2\n",
      "15             5.7           4.4            1.5\n",
      "16             5.4           3.9            1.3\n",
      "17             5.1           3.5            1.4\n",
      "18             5.7           3.8            1.7\n",
      "19             5.1           3.8            1.5\n",
      "20             5.4           3.4            1.7\n",
      "21             5.1           3.7            1.5\n",
      "22             4.6           3.6            1.0\n",
      "23             5.1           3.3            1.7\n",
      "24             4.8           3.4            1.9\n",
      "25             5.0           3.0            1.6\n",
      "26             5.0           3.4            1.6\n",
      "27             5.2           3.5            1.5\n",
      "28             5.2           3.4            1.4\n",
      "29             4.7           3.2            1.6\n",
      "..             ...           ...            ...\n",
      "120            6.9           3.2            5.7\n",
      "121            5.6           2.8            4.9\n",
      "122            7.7           2.8            6.7\n",
      "123            6.3           2.7            4.9\n",
      "124            6.7           3.3            5.7\n",
      "125            7.2           3.2            6.0\n",
      "126            6.2           2.8            4.8\n",
      "127            6.1           3.0            4.9\n",
      "128            6.4           2.8            5.6\n",
      "129            7.2           3.0            5.8\n",
      "130            7.4           2.8            6.1\n",
      "131            7.9           3.8            6.4\n",
      "132            6.4           2.8            5.6\n",
      "133            6.3           2.8            5.1\n",
      "134            6.1           2.6            5.6\n",
      "135            7.7           3.0            6.1\n",
      "136            6.3           3.4            5.6\n",
      "137            6.4           3.1            5.5\n",
      "138            6.0           3.0            4.8\n",
      "139            6.9           3.1            5.4\n",
      "140            6.7           3.1            5.6\n",
      "141            6.9           3.1            5.1\n",
      "142            5.8           2.7            5.1\n",
      "143            6.8           3.2            5.9\n",
      "144            6.7           3.3            5.7\n",
      "145            6.7           3.0            5.2\n",
      "146            6.3           2.5            5.0\n",
      "147            6.5           3.0            5.2\n",
      "148            6.2           3.4            5.4\n",
      "149            5.9           3.0            5.1\n",
      "\n",
      "[150 rows x 3 columns]\n"
     ]
    }
   ],
   "source": [
    "x = d.iloc[:,1:4]\n",
    "y = d['Species']\n",
    "print(x)\n"
   ]
  },
  {
   "cell_type": "code",
   "execution_count": 37,
   "metadata": {},
   "outputs": [
    {
     "name": "stdout",
     "output_type": "stream",
     "text": [
      "Iteration 1, loss = 1.22234832\n",
      "Iteration 2, loss = 1.21995502\n",
      "Iteration 3, loss = 1.21655124\n",
      "Iteration 4, loss = 1.21225102\n",
      "Iteration 5, loss = 1.20715623\n",
      "Iteration 6, loss = 1.20136261\n",
      "Iteration 7, loss = 1.19496203\n",
      "Iteration 8, loss = 1.18803536\n",
      "Iteration 9, loss = 1.18065423\n",
      "Iteration 10, loss = 1.17287506\n",
      "Iteration 11, loss = 1.16476455\n",
      "Iteration 12, loss = 1.15638211\n",
      "Iteration 13, loss = 1.14777387\n",
      "Iteration 14, loss = 1.13898462\n",
      "Iteration 15, loss = 1.13005764\n",
      "Iteration 16, loss = 1.12102377\n",
      "Iteration 17, loss = 1.11191716\n",
      "Iteration 18, loss = 1.10277236\n",
      "Iteration 19, loss = 1.09360971\n",
      "Iteration 20, loss = 1.08444600\n",
      "Iteration 21, loss = 1.07530987\n",
      "Iteration 22, loss = 1.06621373\n",
      "Iteration 23, loss = 1.05716626\n",
      "Iteration 24, loss = 1.04818548\n",
      "Iteration 25, loss = 1.03927745\n",
      "Iteration 26, loss = 1.03043761\n",
      "Iteration 27, loss = 1.02167720\n",
      "Iteration 28, loss = 1.01300219\n",
      "Iteration 29, loss = 1.00442746\n",
      "Iteration 30, loss = 0.99595496\n",
      "Iteration 31, loss = 0.98759004\n",
      "Iteration 32, loss = 0.97933601\n",
      "Iteration 33, loss = 0.97118996\n",
      "Iteration 34, loss = 0.96315872\n",
      "Iteration 35, loss = 0.95524913\n",
      "Iteration 36, loss = 0.94746478\n",
      "Iteration 37, loss = 0.93980900\n",
      "Iteration 38, loss = 0.93227239\n",
      "Iteration 39, loss = 0.92485932\n",
      "Iteration 40, loss = 0.91756936\n",
      "Iteration 41, loss = 0.91039405\n",
      "Iteration 42, loss = 0.90333365\n",
      "Iteration 43, loss = 0.89638825\n",
      "Iteration 44, loss = 0.88955331\n",
      "Iteration 45, loss = 0.88283206\n",
      "Iteration 46, loss = 0.87621890\n",
      "Iteration 47, loss = 0.86971814\n",
      "Iteration 48, loss = 0.86332819\n",
      "Iteration 49, loss = 0.85704657\n",
      "Iteration 50, loss = 0.85087216\n",
      "Iteration 51, loss = 0.84480943\n",
      "Iteration 52, loss = 0.83884972\n",
      "Iteration 53, loss = 0.83298355\n",
      "Iteration 54, loss = 0.82721595\n",
      "Iteration 55, loss = 0.82154111\n",
      "Iteration 56, loss = 0.81595881\n",
      "Iteration 57, loss = 0.81046737\n",
      "Iteration 58, loss = 0.80507070\n",
      "Iteration 59, loss = 0.79976770\n",
      "Iteration 60, loss = 0.79455448\n",
      "Iteration 61, loss = 0.78943327\n",
      "Iteration 62, loss = 0.78440104\n",
      "Iteration 63, loss = 0.77945414\n",
      "Iteration 64, loss = 0.77459067\n",
      "Iteration 65, loss = 0.76980935\n",
      "Iteration 66, loss = 0.76511128\n",
      "Iteration 67, loss = 0.76049251\n",
      "Iteration 68, loss = 0.75594851\n",
      "Iteration 69, loss = 0.75148111\n",
      "Iteration 70, loss = 0.74708673\n",
      "Iteration 71, loss = 0.74275944\n",
      "Iteration 72, loss = 0.73849922\n",
      "Iteration 73, loss = 0.73430439\n",
      "Iteration 74, loss = 0.73017661\n",
      "Iteration 75, loss = 0.72611464\n",
      "Iteration 76, loss = 0.72211544\n",
      "Iteration 77, loss = 0.71817919\n",
      "Iteration 78, loss = 0.71430613\n",
      "Iteration 79, loss = 0.71049426\n",
      "Iteration 80, loss = 0.70673942\n",
      "Iteration 81, loss = 0.70304250\n",
      "Iteration 82, loss = 0.69940446\n",
      "Iteration 83, loss = 0.69582321\n",
      "Iteration 84, loss = 0.69229878\n",
      "Iteration 85, loss = 0.68882914\n",
      "Iteration 86, loss = 0.68541007\n",
      "Iteration 87, loss = 0.68203900\n",
      "Iteration 88, loss = 0.67871552\n",
      "Iteration 89, loss = 0.67544113\n",
      "Iteration 90, loss = 0.67221386\n",
      "Iteration 91, loss = 0.66903404\n",
      "Iteration 92, loss = 0.66590025\n",
      "Iteration 93, loss = 0.66281258\n",
      "Iteration 94, loss = 0.65976948\n",
      "Iteration 95, loss = 0.65677049\n",
      "Iteration 96, loss = 0.65381333\n",
      "Iteration 97, loss = 0.65089629\n",
      "Iteration 98, loss = 0.64801913\n",
      "Iteration 99, loss = 0.64518181\n",
      "Iteration 100, loss = 0.64238428\n",
      "Iteration 101, loss = 0.63962640\n",
      "Iteration 102, loss = 0.63690759\n",
      "Iteration 103, loss = 0.63422428\n",
      "Iteration 104, loss = 0.63157794\n",
      "Iteration 105, loss = 0.62896700\n",
      "Iteration 106, loss = 0.62639152\n",
      "Iteration 107, loss = 0.62385180\n",
      "Iteration 108, loss = 0.62134582\n",
      "Iteration 109, loss = 0.61887214\n",
      "Iteration 110, loss = 0.61643227\n",
      "Iteration 111, loss = 0.61402641\n",
      "Iteration 112, loss = 0.61165107\n",
      "Iteration 113, loss = 0.60930730\n",
      "Iteration 114, loss = 0.60699539\n",
      "Iteration 115, loss = 0.60471342\n",
      "Iteration 116, loss = 0.60245984\n",
      "Iteration 117, loss = 0.60023449\n",
      "Iteration 118, loss = 0.59803761\n",
      "Iteration 119, loss = 0.59586752\n",
      "Iteration 120, loss = 0.59372326\n",
      "Iteration 121, loss = 0.59160452\n",
      "Iteration 122, loss = 0.58951264\n",
      "Iteration 123, loss = 0.58744655\n",
      "Iteration 124, loss = 0.58540508\n",
      "Iteration 125, loss = 0.58338841\n",
      "Iteration 126, loss = 0.58139559\n",
      "Iteration 127, loss = 0.57942559\n",
      "Iteration 128, loss = 0.57747872\n",
      "Iteration 129, loss = 0.57555335\n",
      "Iteration 130, loss = 0.57364886\n",
      "Iteration 131, loss = 0.57176636\n",
      "Iteration 132, loss = 0.56990555\n",
      "Iteration 133, loss = 0.56806600\n",
      "Iteration 134, loss = 0.56624786\n",
      "Iteration 135, loss = 0.56445110\n",
      "Iteration 136, loss = 0.56267465\n",
      "Iteration 137, loss = 0.56091816\n",
      "Iteration 138, loss = 0.55918242\n",
      "Iteration 139, loss = 0.55746626\n",
      "Iteration 140, loss = 0.55576850\n",
      "Iteration 141, loss = 0.55408871\n",
      "Iteration 142, loss = 0.55242673\n",
      "Iteration 143, loss = 0.55078280\n",
      "Iteration 144, loss = 0.54915659\n",
      "Iteration 145, loss = 0.54754742\n",
      "Iteration 146, loss = 0.54595532\n",
      "Iteration 147, loss = 0.54437962\n",
      "Iteration 148, loss = 0.54282102\n",
      "Iteration 149, loss = 0.54127969\n",
      "Iteration 150, loss = 0.53975499\n",
      "Iteration 151, loss = 0.53824508\n",
      "Iteration 152, loss = 0.53675013\n",
      "Iteration 153, loss = 0.53526945\n",
      "Iteration 154, loss = 0.53380320\n",
      "Iteration 155, loss = 0.53235131\n",
      "Iteration 156, loss = 0.53091419\n",
      "Iteration 157, loss = 0.52949143\n",
      "Iteration 158, loss = 0.52808278\n",
      "Iteration 159, loss = 0.52668784\n",
      "Iteration 160, loss = 0.52530691\n",
      "Iteration 161, loss = 0.52393912\n",
      "Iteration 162, loss = 0.52258449\n",
      "Iteration 163, loss = 0.52124351\n",
      "Iteration 164, loss = 0.51991558\n",
      "Iteration 165, loss = 0.51860003\n",
      "Iteration 166, loss = 0.51729655\n",
      "Iteration 167, loss = 0.51600517\n",
      "Iteration 168, loss = 0.51472547\n",
      "Iteration 169, loss = 0.51345723\n",
      "Iteration 170, loss = 0.51220070\n",
      "Iteration 171, loss = 0.51095574\n",
      "Iteration 172, loss = 0.50972195\n",
      "Iteration 173, loss = 0.50849970\n",
      "Iteration 174, loss = 0.50728856\n",
      "Iteration 175, loss = 0.50608810\n",
      "Iteration 176, loss = 0.50489822\n",
      "Iteration 177, loss = 0.50371880\n",
      "Iteration 178, loss = 0.50254973\n",
      "Iteration 179, loss = 0.50139090\n",
      "Iteration 180, loss = 0.50024178\n",
      "Iteration 181, loss = 0.49910275\n",
      "Iteration 182, loss = 0.49797409\n",
      "Iteration 183, loss = 0.49685547\n",
      "Iteration 184, loss = 0.49574670\n",
      "Iteration 185, loss = 0.49464734\n",
      "Iteration 186, loss = 0.49355726\n",
      "Iteration 187, loss = 0.49247613\n",
      "Iteration 188, loss = 0.49140392\n",
      "Iteration 189, loss = 0.49034083\n",
      "Iteration 190, loss = 0.48928664\n",
      "Iteration 191, loss = 0.48824066\n",
      "Iteration 192, loss = 0.48720323\n",
      "Iteration 193, loss = 0.48617448\n",
      "Iteration 194, loss = 0.48515409\n",
      "Iteration 195, loss = 0.48414179\n",
      "Iteration 196, loss = 0.48313788\n",
      "Iteration 197, loss = 0.48214208\n",
      "Iteration 198, loss = 0.48115419\n",
      "Iteration 199, loss = 0.48017407\n",
      "Iteration 200, loss = 0.47920164\n"
     ]
    },
    {
     "name": "stderr",
     "output_type": "stream",
     "text": [
      "C:\\Users\\jervis1.0\\Anaconda3\\lib\\site-packages\\sklearn\\neural_network\\multilayer_perceptron.py:563: ConvergenceWarning: Stochastic Optimizer: Maximum iterations reached and the optimization hasn't converged yet.\n",
      "  % (), ConvergenceWarning)\n"
     ]
    },
    {
     "data": {
      "text/plain": [
       "MLPClassifier(activation='relu', alpha=0.0001, batch_size='auto', beta_1=0.9,\n",
       "       beta_2=0.999, early_stopping=False, epsilon=1e-08,\n",
       "       hidden_layer_sizes=(100,), learning_rate='constant',\n",
       "       learning_rate_init=0.001, max_iter=200, momentum=0.9,\n",
       "       nesterovs_momentum=True, power_t=0.5, random_state=None,\n",
       "       shuffle=True, solver='sgd', tol=0.0001, validation_fraction=0.1,\n",
       "       verbose=True, warm_start=False)"
      ]
     },
     "execution_count": 37,
     "metadata": {},
     "output_type": "execute_result"
    }
   ],
   "source": [
    "xtrain,xtest,ytrain,ytest = train_test_split(x,y,random_state = 0, test_size= 0.2)\n",
    "from sklearn.preprocessing import StandardScaler\n",
    "sc = StandardScaler()\n",
    "xtrain = sc.fit_transform(xtrain)\n",
    "xtest = sc.fit_transform(xtest)\n",
    "al.fit(xtrain,ytrain)\n"
   ]
  },
  {
   "cell_type": "code",
   "execution_count": 38,
   "metadata": {},
   "outputs": [
    {
     "data": {
      "text/plain": [
       "array(['Iris-virginica', 'Iris-versicolor', 'Iris-setosa',\n",
       "       'Iris-virginica', 'Iris-setosa', 'Iris-virginica', 'Iris-setosa',\n",
       "       'Iris-virginica', 'Iris-virginica', 'Iris-virginica',\n",
       "       'Iris-virginica', 'Iris-virginica', 'Iris-virginica',\n",
       "       'Iris-virginica', 'Iris-virginica', 'Iris-setosa', 'Iris-virginica',\n",
       "       'Iris-versicolor', 'Iris-setosa', 'Iris-setosa', 'Iris-versicolor',\n",
       "       'Iris-versicolor', 'Iris-setosa', 'Iris-setosa', 'Iris-virginica',\n",
       "       'Iris-setosa', 'Iris-setosa', 'Iris-virginica', 'Iris-versicolor',\n",
       "       'Iris-setosa'], \n",
       "      dtype='<U15')"
      ]
     },
     "execution_count": 38,
     "metadata": {},
     "output_type": "execute_result"
    }
   ],
   "source": [
    "yp = al.predict(xtest)\n",
    "yp.flatten()"
   ]
  },
  {
   "cell_type": "code",
   "execution_count": 39,
   "metadata": {},
   "outputs": [
    {
     "name": "stdout",
     "output_type": "stream",
     "text": [
      "[[11  0  0]\n",
      " [ 0  4  9]\n",
      " [ 0  1  5]]\n"
     ]
    }
   ],
   "source": [
    "from sklearn.metrics import confusion_matrix\n",
    "confusion = confusion_matrix(ytest,yp)\n",
    "print(confusion)"
   ]
  },
  {
   "cell_type": "code",
   "execution_count": 40,
   "metadata": {},
   "outputs": [
    {
     "name": "stdout",
     "output_type": "stream",
     "text": [
      "The accuracy in percentage is :>66.66666666666666 % \n"
     ]
    }
   ],
   "source": [
    "from sklearn.metrics import accuracy_score\n",
    "print(\"The accuracy in percentage is :>{} % \".format((accuracy_score(ytest, yp))*100))"
   ]
  },
  {
   "cell_type": "code",
   "execution_count": null,
   "metadata": {
    "collapsed": true
   },
   "outputs": [],
   "source": []
  }
 ],
 "metadata": {
  "kernelspec": {
   "display_name": "Python 3",
   "language": "python",
   "name": "python3"
  },
  "language_info": {
   "codemirror_mode": {
    "name": "ipython",
    "version": 3
   },
   "file_extension": ".py",
   "mimetype": "text/x-python",
   "name": "python",
   "nbconvert_exporter": "python",
   "pygments_lexer": "ipython3",
   "version": "3.7.3"
  }
 },
 "nbformat": 4,
 "nbformat_minor": 2
}
