{
 "cells": [
  {
   "cell_type": "code",
   "execution_count": 2,
   "metadata": {},
   "outputs": [],
   "source": [
    "import pandas as pd\n",
    "import matplotlib.pyplot as plt"
   ]
  },
  {
   "cell_type": "code",
   "execution_count": 29,
   "metadata": {
    "scrolled": false
   },
   "outputs": [
    {
     "data": {
      "text/html": [
       "<div>\n",
       "<style scoped>\n",
       "    .dataframe tbody tr th:only-of-type {\n",
       "        vertical-align: middle;\n",
       "    }\n",
       "\n",
       "    .dataframe tbody tr th {\n",
       "        vertical-align: top;\n",
       "    }\n",
       "\n",
       "    .dataframe thead th {\n",
       "        text-align: right;\n",
       "    }\n",
       "</style>\n",
       "<table border=\"1\" class=\"dataframe\">\n",
       "  <thead>\n",
       "    <tr style=\"text-align: right;\">\n",
       "      <th></th>\n",
       "      <th>HOTEL NAME</th>\n",
       "      <th>LOCALITY</th>\n",
       "      <th>REGION</th>\n",
       "      <th>OLD PRICE</th>\n",
       "      <th>PRICE AFTER DISCOUNT</th>\n",
       "      <th>% DISCOUNT</th>\n",
       "      <th>STATUS</th>\n",
       "    </tr>\n",
       "  </thead>\n",
       "  <tbody>\n",
       "    <tr>\n",
       "      <th>0</th>\n",
       "      <td>OYO Premium 529 Jasola Vihar</td>\n",
       "      <td>Pocket-2, Jasola</td>\n",
       "      <td>Delhi</td>\n",
       "      <td>2649</td>\n",
       "      <td>1987</td>\n",
       "      <td>25</td>\n",
       "      <td>1</td>\n",
       "    </tr>\n",
       "    <tr>\n",
       "      <th>1</th>\n",
       "      <td>OYO Flagship 485 GK2 Savitri Cinema</td>\n",
       "      <td>E Block,GK2</td>\n",
       "      <td>Delhi</td>\n",
       "      <td>3149</td>\n",
       "      <td>2362</td>\n",
       "      <td>25</td>\n",
       "      <td>1</td>\n",
       "    </tr>\n",
       "    <tr>\n",
       "      <th>2</th>\n",
       "      <td>OYO Flagship 573 Paharganj NDLS</td>\n",
       "      <td>Arakashan Road, Paharganj</td>\n",
       "      <td>Delhi</td>\n",
       "      <td>1799</td>\n",
       "      <td>1349</td>\n",
       "      <td>25</td>\n",
       "      <td>1</td>\n",
       "    </tr>\n",
       "    <tr>\n",
       "      <th>3</th>\n",
       "      <td>OYO Flagship 513 Delhi Airport</td>\n",
       "      <td>A Block,Mahipalpur Extension</td>\n",
       "      <td>Delhi</td>\n",
       "      <td>1999</td>\n",
       "      <td>1499</td>\n",
       "      <td>25</td>\n",
       "      <td>1</td>\n",
       "    </tr>\n",
       "    <tr>\n",
       "      <th>4</th>\n",
       "      <td>OYO Premium 055 New Friends Colony Ring Road</td>\n",
       "      <td>CV Raman Marg</td>\n",
       "      <td>Delhi</td>\n",
       "      <td>3899</td>\n",
       "      <td>2924</td>\n",
       "      <td>25</td>\n",
       "      <td>1</td>\n",
       "    </tr>\n",
       "  </tbody>\n",
       "</table>\n",
       "</div>"
      ],
      "text/plain": [
       "                                     HOTEL NAME                      LOCALITY  \\\n",
       "0                  OYO Premium 529 Jasola Vihar              Pocket-2, Jasola   \n",
       "1           OYO Flagship 485 GK2 Savitri Cinema                   E Block,GK2   \n",
       "2               OYO Flagship 573 Paharganj NDLS     Arakashan Road, Paharganj   \n",
       "3                OYO Flagship 513 Delhi Airport  A Block,Mahipalpur Extension   \n",
       "4  OYO Premium 055 New Friends Colony Ring Road                 CV Raman Marg   \n",
       "\n",
       "  REGION OLD PRICE PRICE AFTER DISCOUNT % DISCOUNT  STATUS  \n",
       "0  Delhi      2649                 1987         25       1  \n",
       "1  Delhi      3149                 2362         25       1  \n",
       "2  Delhi      1799                 1349         25       1  \n",
       "3  Delhi      1999                 1499         25       1  \n",
       "4  Delhi      3899                 2924         25       1  "
      ]
     },
     "execution_count": 29,
     "metadata": {},
     "output_type": "execute_result"
    }
   ],
   "source": [
    "data = pd.read_csv(\"C:\\\\Users\\\\HP\\\\Desktop\\\\Python\\AI\\\\DataSet\\\\oyorooms.csv\")\n",
    "df=data.replace(['₹','% OFF','Available','SOLD OUT'],['','',1,0],regex=True).dropna()\n",
    "# df.drop(df[0])\n",
    "df.drop(df.columns[0],axis=1,inplace=True)\n",
    "df.to_csv('cleanedoyoroomsdata.csv')\n",
    "df.head()"
   ]
  }
 ],
 "metadata": {
  "kernelspec": {
   "display_name": "Python 3",
   "language": "python",
   "name": "python3"
  },
  "language_info": {
   "codemirror_mode": {
    "name": "ipython",
    "version": 3
   },
   "file_extension": ".py",
   "mimetype": "text/x-python",
   "name": "python",
   "nbconvert_exporter": "python",
   "pygments_lexer": "ipython3",
   "version": "3.6.5"
  }
 },
 "nbformat": 4,
 "nbformat_minor": 2
}
