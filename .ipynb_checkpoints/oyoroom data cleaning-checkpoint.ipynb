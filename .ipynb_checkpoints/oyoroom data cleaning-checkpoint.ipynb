{
 "cells": [
  {
   "cell_type": "code",
   "execution_count": null,
   "metadata": {},
   "outputs": [],
   "source": [
    "#1000 to 1500\n",
    "# 1500 to 3000\n",
    "# max range in which sold out\n",
    "# max range in which available\n",
    "# linear\n",
    "# both data set\n",
    "# old price "
   ]
  },
  {
   "cell_type": "code",
   "execution_count": 22,
   "metadata": {},
   "outputs": [],
   "source": [
    "import pandas as pd\n",
    "import matplotlib.pyplot as plt\n",
    "import csv"
   ]
  },
  {
   "cell_type": "code",
   "execution_count": 37,
   "metadata": {
    "scrolled": true
   },
   "outputs": [],
   "source": [
    "data = pd.read_csv(\"C:\\\\Users\\\\HP\\\\Desktop\\\\Python\\AI\\\\DataSet\\\\oyorooms.csv\")\n",
    "# print(data)\n",
    "oldprice=data['OLD PRICE'].str.split(\" \",expand=True)\n",
    "oldprice=list(oldprice[1])\n",
    "\n",
    "newprice=data['PRICE AFTER DISCOUNT'].str.split(\" \",expand=True)\n",
    "newprice[1]\n",
    "\n",
    "# pricedf=pd.DataFrame(oldprice,newprice)\n",
    "pricedf.to_csv(\"newoyo.csv\")"
   ]
  }
 ],
 "metadata": {
  "kernelspec": {
   "display_name": "Python 3",
   "language": "python",
   "name": "python3"
  },
  "language_info": {
   "codemirror_mode": {
    "name": "ipython",
    "version": 3
   },
   "file_extension": ".py",
   "mimetype": "text/x-python",
   "name": "python",
   "nbconvert_exporter": "python",
   "pygments_lexer": "ipython3",
   "version": "3.6.5"
  }
 },
 "nbformat": 4,
 "nbformat_minor": 2
}
